{
  "cells": [
    {
      "cell_type": "code",
      "execution_count": null,
      "metadata": {
        "id": "EKBMERuMhFA1"
      },
      "outputs": [],
      "source": [
        "import numpy as np\n",
        "import pandas as pd\n",
        "import matplotlib.pyplot as plt\n",
        "from sklearn.metrics import r2_score, mean_squared_error, mean_absolute_error"
      ]
    },
    {
      "cell_type": "code",
      "execution_count": null,
      "metadata": {
        "colab": {
          "base_uri": "https://localhost:8080/",
          "height": 648
        },
        "id": "Z1qiPFdLhIMC",
        "outputId": "77cf38ee-3a3b-48c6-f56f-c93fcb7f9cb0"
      },
      "outputs": [],
      "source": [
        "#Reading Data\n",
        "df = pd.read_csv('50_Startups.csv')\n",
        "# Display basic information and box plot\n",
        "df.info()\n",
        "df.boxplot()\n",
        "#Handling Categorical Data\n",
        "df = pd.get_dummies(df, columns=['State'], drop_first=True)"
      ]
    },
    {
      "cell_type": "code",
      "execution_count": null,
      "metadata": {
        "id": "4Kmx9LBJhbdZ"
      },
      "outputs": [],
      "source": [
        "from sklearn.preprocessing import MinMaxScaler\n",
        "\n",
        "X = df.drop('Profit', axis=1)\n",
        "y = df['Profit']\n",
        "\n",
        "scaler = MinMaxScaler()\n",
        "X_scaled = scaler.fit_transform(X)"
      ]
    },
    {
      "cell_type": "code",
      "execution_count": null,
      "metadata": {
        "id": "qshEPeoHheRJ"
      },
      "outputs": [],
      "source": [
        "#Data Split\n",
        "\n",
        "from sklearn.model_selection import train_test_split\n",
        "\n",
        "X_train, X_test, y_train, y_test = train_test_split(X_scaled, y, test_size=0.2, random_state=0)"
      ]
    },
    {
      "cell_type": "code",
      "execution_count": null,
      "metadata": {
        "colab": {
          "base_uri": "https://localhost:8080/",
          "height": 74
        },
        "id": "pIIzRBLVhhJZ",
        "outputId": "1a910c88-0951-405e-ac8c-201126cb472f"
      },
      "outputs": [],
      "source": [
        "#Model Fitting and Pipelining\n",
        "\n",
        "from sklearn.linear_model import LinearRegression\n",
        "\n",
        "regressor = LinearRegression()\n",
        "regressor.fit(X_train, y_train)"
      ]
    },
    {
      "cell_type": "code",
      "execution_count": null,
      "metadata": {
        "colab": {
          "base_uri": "https://localhost:8080/"
        },
        "id": "XeUkAIOmhkfx",
        "outputId": "3855e6f3-9383-4716-e44d-4fff1338f952"
      },
      "outputs": [],
      "source": [
        "#Predicting and Evaluation\n",
        "y_pred = regressor.predict(X_test)\n",
        "# R2 Score\n",
        "print(\"R2 Score:\", r2_score(y_test, y_pred))\n",
        "# RMSE\n",
        "print(\"Root Mean Squared Error (RMSE):\", np.sqrt(mean_squared_error(y_test, y_pred)))\n",
        "# MSE\n",
        "print(\"Mean Squared Error (MSE):\", mean_squared_error(y_test, y_pred))\n",
        "# MAE (Optional)\n",
        "print(\"Mean Absolute Error (MAE):\", mean_absolute_error(y_test, y_pred))"
      ]
    }
  ],
  "metadata": {
    "colab": {
      "provenance": []
    },
    "kernelspec": {
      "display_name": "Python 3",
      "name": "python3"
    },
    "language_info": {
      "codemirror_mode": {
        "name": "ipython",
        "version": 3
      },
      "file_extension": ".py",
      "mimetype": "text/x-python",
      "name": "python",
      "nbconvert_exporter": "python",
      "pygments_lexer": "ipython3",
      "version": "3.12.5"
    }
  },
  "nbformat": 4,
  "nbformat_minor": 0
}
