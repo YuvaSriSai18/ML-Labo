{
  "cells": [
    {
      "cell_type": "code",
      "execution_count": null,
      "metadata": {
        "id": "8wXRixFUShzL"
      },
      "outputs": [],
      "source": [
        "import numpy as np\n",
        "import pandas as pd\n",
        "import matplotlib.pyplot as plt\n",
        "import seaborn as sns\n",
        "from sklearn.model_selection import train_test_split\n",
        "from sklearn.preprocessing import StandardScaler\n",
        "from sklearn.linear_model import LinearRegression\n",
        "from sklearn.metrics import mean_absolute_error, mean_squared_error, r2_score"
      ]
    },
    {
      "cell_type": "code",
      "execution_count": null,
      "metadata": {
        "colab": {
          "base_uri": "https://localhost:8080/"
        },
        "id": "t7-5bCmISmq4",
        "outputId": "b3552564-3545-4fbe-85c1-69c95f5d9831"
      },
      "outputs": [],
      "source": [
        "# Load the dataset\n",
        "df = pd.read_csv('./ToyotaCorolla.csv')\n",
        "\n",
        "# Display dataset columns\n",
        "print(\"Dataset columns:\", df.columns)\n",
        "\n",
        "# Selecting the relevant columns\n",
        "df = df[[\"Price\", \"Age_08_04\", \"KM\", \"HP\", \"cc\", \"Doors\", \"Gears\", \"Quarterly_Tax\", \"Weight\"]]\n",
        "\n",
        "# Display first few rows\n",
        "print(\"First few rows of the dataset:\")\n",
        "print(df.head())"
      ]
    },
    {
      "cell_type": "code",
      "execution_count": null,
      "metadata": {
        "colab": {
          "base_uri": "https://localhost:8080/",
          "height": 622
        },
        "id": "qSsxtuEOTPZQ",
        "outputId": "f09305c0-56a1-496f-b6df-caa96fec9c1a"
      },
      "outputs": [],
      "source": [
        "# Plot correlation heatmap\n",
        "corr_results = df.corr()\n",
        "fig = plt.figure(figsize=(12, 7))\n",
        "sns.heatmap(corr_results, annot=True, cmap=\"coolwarm\")\n",
        "plt.title('Correlation Matrix')\n",
        "plt.show()\n",
        "\n",
        "# Splitting the data into features (X) and target (y)\n",
        "X = df.iloc[:, 1:].values  # Features\n",
        "y = df.iloc[:, 0].values  # Target (Price)"
      ]
    },
    {
      "cell_type": "code",
      "execution_count": null,
      "metadata": {
        "colab": {
          "base_uri": "https://localhost:8080/"
        },
        "id": "sf9CJgrNVxuP",
        "outputId": "65c7cd56-d1d5-482e-98cf-1b3cdfad4910"
      },
      "outputs": [],
      "source": [
        "# Split the data into training and testing sets\n",
        "X_train, X_test, y_train, y_test = train_test_split(X, y, test_size=0.25, random_state=42)\n",
        "\n",
        "print(\"Shape of X_train:\", X_train.shape)\n",
        "print(\"Shape of X_test:\", X_test.shape)\n",
        "print(\"Shape of y_train:\", y_train.shape)\n",
        "print(\"Shape of y_test:\", y_test.shape)\n",
        "\n",
        "# Standardizing the features\n",
        "scaler = StandardScaler()\n",
        "X_train = scaler.fit_transform(X_train)\n",
        "X_test = scaler.transform(X_test)"
      ]
    },
    {
      "cell_type": "code",
      "execution_count": null,
      "metadata": {
        "id": "FeiqN3QqV2MJ"
      },
      "outputs": [],
      "source": [
        "# Linear Regression\n",
        "regressor = LinearRegression()\n",
        "regressor.fit(X_train, y_train)\n",
        "\n",
        "# Predicting the Test set results\n",
        "y_pred = regressor.predict(X_test)\n",
        "\n",
        "# Evaluating the model\n",
        "mae = mean_absolute_error(y_test, y_pred)\n",
        "mse = mean_squared_error(y_test, y_pred)\n",
        "rmse = np.sqrt(mse)\n",
        "r2 = r2_score(y_test, y_pred)\n",
        "accuracy = 1 - mse / y_test.var()"
      ]
    },
    {
      "cell_type": "code",
      "execution_count": null,
      "metadata": {
        "colab": {
          "base_uri": "https://localhost:8080/"
        },
        "id": "WbNNLKd2V6AY",
        "outputId": "183e3781-cc43-419d-8fbd-a20a274f4bc5"
      },
      "outputs": [],
      "source": [
        "print(f\"Mean Absolute Error (MAE): {mae:.2f}\")\n",
        "print(f\"Mean Squared Error (MSE): {mse:.2f}\")\n",
        "print(f\"Root Mean Squared Error (RMSE): {rmse:.2f}\")\n",
        "print(f\"R-squared (R²): {r2:.2f}\")\n",
        "print(f\"Accuracy: {accuracy:.2f}\")\n",
        "\n",
        "# Comparison of predicted vs actual values\n",
        "comparison = np.concatenate((y_pred.reshape(len(y_pred), 1), y_test.reshape(len(y_test), 1)), axis=1)\n",
        "print(\"Comparison of predicted vs actual values:\")\n",
        "print(comparison)"
      ]
    },
    {
      "cell_type": "code",
      "execution_count": null,
      "metadata": {
        "id": "TjNDt4X4V_T4"
      },
      "outputs": [],
      "source": [
        "def calculate_mse_r2(y_test, y_predict):\n",
        "    # Convert inputs to numpy arrays\n",
        "    y_test = np.array(y_test)\n",
        "    y_predict = np.array(y_predict)\n",
        "\n",
        "    mse = np.mean((y_test - y_predict) ** 2)\n",
        "    ss_total = np.sum((y_test - np.mean(y_test)) ** 2)\n",
        "    ss_residual = np.sum((y_test - y_predict) ** 2)\n",
        "    r2 = 1 - (ss_residual / ss_total)\n",
        "\n",
        "    return mse, r2"
      ]
    },
    {
      "cell_type": "code",
      "execution_count": null,
      "metadata": {
        "colab": {
          "base_uri": "https://localhost:8080/"
        },
        "id": "rR3ta0FoWAPA",
        "outputId": "4d72bb47-66c1-41bf-8940-2a0b05a19ce0"
      },
      "outputs": [],
      "source": [
        "mse_manual, r2_manual = calculate_mse_r2(y_test, y_pred)\n",
        "print(f\"Manual Mean Squared Error: {mse_manual:.2f}\")\n",
        "print(f\"Manual R-squared: {r2_manual:.2f}\")"
      ]
    }
  ],
  "metadata": {
    "colab": {
      "provenance": []
    },
    "kernelspec": {
      "display_name": "Python 3",
      "name": "python3"
    },
    "language_info": {
      "codemirror_mode": {
        "name": "ipython",
        "version": 3
      },
      "file_extension": ".py",
      "mimetype": "text/x-python",
      "name": "python",
      "nbconvert_exporter": "python",
      "pygments_lexer": "ipython3",
      "version": "3.12.5"
    }
  },
  "nbformat": 4,
  "nbformat_minor": 0
}
