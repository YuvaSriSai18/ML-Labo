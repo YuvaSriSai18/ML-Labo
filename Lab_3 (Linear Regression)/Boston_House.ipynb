{
  "cells": [
    {
      "cell_type": "code",
      "execution_count": null,
      "metadata": {
        "id": "OyogB16QoQrT"
      },
      "outputs": [],
      "source": [
        "import numpy as np\n",
        "import pandas as pd\n",
        "from sklearn import datasets\n",
        "from sklearn.datasets import fetch_california_housing"
      ]
    },
    {
      "cell_type": "code",
      "execution_count": null,
      "metadata": {
        "id": "IUWpe-MwoWFJ"
      },
      "outputs": [],
      "source": [
        "housing = fetch_california_housing()\n",
        "df = pd.DataFrame(data=housing['data'])\n",
        "X = housing.data\n",
        "X = np.c_[np.ones((len(X), 1)), X]\n",
        "Y = housing.target\n",
        "\n",
        "theta_normal = np.linalg.inv(X.T.dot(X)).dot(X.T).dot(Y)\n",
        "\n",
        "print(theta_normal)\n",
        "\n",
        "Y_pred = X.dot(theta_normal)\n",
        "\n",
        "print(Y_pred)"
      ]
    },
    {
      "cell_type": "code",
      "execution_count": null,
      "metadata": {
        "id": "MmzYo9tBoZtY"
      },
      "outputs": [],
      "source": [
        "#Calculating Residual - SSE\n",
        "sum = 0\n",
        "for i in range(Y_pred.shape[0]):\n",
        "  sum+= (Y[i]-Y_pred[i])**2\n",
        "print(sum)\n",
        "\n",
        "#R2_Score from Scratch\n",
        "ss_total = np.sum((Y - np.mean(Y)) ** 2)\n",
        "ss_residual = np.sum((Y - Y_pred) ** 2)\n",
        "r2 = 1 - (ss_residual / ss_total)\n",
        "print(r2)"
      ]
    },
    {
      "cell_type": "code",
      "execution_count": null,
      "metadata": {
        "id": "0bP_RufKodpg"
      },
      "outputs": [],
      "source": [
        "#Implementing Gradient Descent - Full batch\n",
        "from sklearn.linear_model import LinearRegression\n",
        "from sklearn import datasets\n",
        "from sklearn.datasets import fetch_california_housing\n",
        "housing = fetch_california_housing()\n",
        "df = pd.DataFrame(data=housing['data'])\n",
        "x = housing.data\n",
        "x = np.c_[np.ones((len(X), 1)), x]\n",
        "y = housing.target\n",
        "model = LinearRegression()\n",
        "model.fit(X,Y)\n",
        "\n",
        "y_pred = model.predict(x)\n",
        "\n",
        "print(model.intercept_,model.coef_[0])\n",
        "\n",
        "#SSE from Scratch for Full batch gradient\n",
        "sum = 0\n",
        "for i in range(y_pred.shape[0]):\n",
        "  sum+= (y[i]-y_pred[i])**2\n",
        "print(sum)\n",
        "\n",
        "#R2_Score from Scratch\n",
        "ss_total = np.sum((y - np.mean(y)) ** 2)\n",
        "ss_residual = np.sum((y - y_pred) ** 2)\n",
        "r2 = 1 - (ss_residual / ss_total)\n",
        "print(r2)"
      ]
    },
    {
      "cell_type": "code",
      "execution_count": null,
      "metadata": {
        "id": "av0xdVrkoeho"
      },
      "outputs": [],
      "source": [
        "#Implementing using Stochastic Gradient Descent\n",
        "\n",
        "from sklearn.linear_model import LinearRegression\n",
        "from sklearn import datasets\n",
        "from sklearn.datasets import fetch_california_housing\n",
        "housing = fetch_california_housing()\n",
        "df = pd.DataFrame(data=housing['data'])\n",
        "x = housing.data\n",
        "x = np.c_[np.ones((len(X), 1)), x]\n",
        "y = housing.target\n",
        "model = LinearRegression()\n",
        "model.fit(X,Y)\n",
        "\n",
        "y_pred = model.predict(x)\n",
        "\n",
        "print(model.intercept_,model.coef_[0])\n",
        "\n",
        "#SSE from Scratch for Full batch gradient\n",
        "sum = 0\n",
        "for i in range(y_pred.shape[0]):\n",
        "  sum+= (y[i]-y_pred[i])**2\n",
        "print(sum)\n",
        "\n",
        "#R2_Score from Scratch\n",
        "ss_total = np.sum((y - np.mean(y)) ** 2)\n",
        "ss_residual = np.sum((y - y_pred) ** 2)\n",
        "r2 = 1 - (ss_residual / ss_total)\n",
        "print(r2)"
      ]
    },
    {
      "cell_type": "code",
      "execution_count": null,
      "metadata": {
        "id": "FHh-ExEwom0w"
      },
      "outputs": [],
      "source": [
        "#Implementing using Stochastic Gradient Descent\n",
        "\n",
        "from sklearn.linear_model import SGDRegressor\n",
        "model = SGDRegressor()\n",
        "model.fit(x,y)\n",
        "\n",
        "y_pred = model.predict(x)\n",
        "\n",
        "#SSE from Scratch for Stochastic batch gradient\n",
        "sum = 0\n",
        "for i in range(y_pred.shape[0]):\n",
        "  sum+= (y[i]-y_pred[i])**2\n",
        "print(sum)\n",
        "\n",
        "#R2_Score from Scratch for Stochastic Gradient Descent\n",
        "ss_total = np.sum((y - np.mean(y)) ** 2)\n",
        "ss_residual = np.sum((y - y_pred) ** 2)\n",
        "r2 = 1 - (ss_residual / ss_total)\n",
        "print(r2)"
      ]
    },
    {
      "cell_type": "code",
      "execution_count": null,
      "metadata": {
        "id": "TvTQBfrEotS6"
      },
      "outputs": [],
      "source": [
        "import numpy as np\n",
        "from sklearn.datasets import fetch_california_housing\n",
        "from sklearn.linear_model import LinearRegression, SGDRegressor\n",
        "from sklearn.model_selection import train_test_split\n",
        "from sklearn.metrics import mean_squared_error, r2_score"
      ]
    },
    {
      "cell_type": "code",
      "execution_count": null,
      "metadata": {
        "id": "ZSlDfxFZoxjp"
      },
      "outputs": [],
      "source": [
        "housing = fetch_california_housing()\n",
        "X = housing.data\n",
        "Y = housing.target\n",
        "X_train, X_test, Y_train, Y_test = train_test_split(X, Y, test_size=0.2, random_state=42)\n",
        "\n",
        "lin_reg = LinearRegression()\n",
        "lin_reg.fit(X_train, Y_train)\n",
        "Y_pred_batch_gd = lin_reg.predict(X_test)\n",
        "\n",
        "sgd_reg = SGDRegressor(max_iter=1000, tol=1e-3, random_state=42)\n",
        "sgd_reg.fit(X_train, Y_train)\n",
        "Y_pred_sgd = sgd_reg.predict(X_test)\n",
        "\n",
        "mse_batch_gd = mean_squared_error(Y_test, Y_pred_batch_gd)\n",
        "mse_sgd = mean_squared_error(Y_test, Y_pred_sgd)\n",
        "r2_batch_gd = r2_score(Y_test, Y_pred_batch_gd)\n",
        "r2_sgd = r2_score(Y_test, Y_pred_sgd)\n",
        "\n",
        "print(\"Full-Batch Gradient Descent Mean Squared Error:\", mse_batch_gd)\n",
        "print(\"Stochastic Gradient Descent Mean Squared Error:\", mse_sgd)\n",
        "print(\"Full-Batch Gradient Descent R² Score:\", r2_batch_gd)\n",
        "print(\"Stochastic Gradient Descent R² Score:\", r2_sgd)"
      ]
    }
  ],
  "metadata": {
    "colab": {
      "provenance": []
    },
    "kernelspec": {
      "display_name": "Python 3",
      "name": "python3"
    },
    "language_info": {
      "name": "python",
      "version": "3.12.5"
    }
  },
  "nbformat": 4,
  "nbformat_minor": 0
}
