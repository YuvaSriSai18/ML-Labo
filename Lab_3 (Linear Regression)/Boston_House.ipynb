{
  "nbformat": 4,
  "nbformat_minor": 0,
  "metadata": {
    "colab": {
      "provenance": []
    },
    "kernelspec": {
      "name": "python3",
      "display_name": "Python 3"
    },
    "language_info": {
      "name": "python"
    }
  },
  "cells": [
    {
      "cell_type": "code",
      "execution_count": 1,
      "metadata": {
        "id": "OyogB16QoQrT"
      },
      "outputs": [],
      "source": [
        "import numpy as np\n",
        "import pandas as pd\n",
        "from sklearn import datasets\n",
        "from sklearn.datasets import fetch_california_housing"
      ]
    },
    {
      "cell_type": "code",
      "source": [
        "housing = fetch_california_housing()\n",
        "df = pd.DataFrame(data=housing['data'])\n",
        "X = housing.data\n",
        "X = np.c_[np.ones((len(X), 1)), X]\n",
        "Y = housing.target\n",
        "\n",
        "theta_normal = np.linalg.inv(X.T.dot(X)).dot(X.T).dot(Y)\n",
        "\n",
        "print(theta_normal)\n",
        "\n",
        "Y_pred = X.dot(theta_normal)\n",
        "\n",
        "print(Y_pred)"
      ],
      "metadata": {
        "id": "IUWpe-MwoWFJ",
        "colab": {
          "base_uri": "https://localhost:8080/"
        },
        "outputId": "e2019f22-7e9d-43a2-de9a-8612ca1f50a6"
      },
      "execution_count": 2,
      "outputs": [
        {
          "output_type": "stream",
          "name": "stdout",
          "text": [
            "[-3.69419202e+01  4.36693293e-01  9.43577803e-03 -1.07322041e-01\n",
            "  6.45065694e-01 -3.97638942e-06 -3.78654265e-03 -4.21314378e-01\n",
            " -4.34513755e-01]\n",
            "[4.13164983 3.97660644 3.67657094 ... 0.17125141 0.31910524 0.51580363]\n"
          ]
        }
      ]
    },
    {
      "cell_type": "code",
      "source": [
        "#Calculating Residual - SSE\n",
        "sum = 0\n",
        "for i in range(Y_pred.shape[0]):\n",
        "  sum+= (Y[i]-Y_pred[i])**2\n",
        "print(sum)\n",
        "\n",
        "#R2_Score from Scratch\n",
        "ss_total = np.sum((Y - np.mean(Y)) ** 2)\n",
        "ss_residual = np.sum((Y - Y_pred) ** 2)\n",
        "r2 = 1 - (ss_residual / ss_total)\n",
        "print(r2)"
      ],
      "metadata": {
        "id": "MmzYo9tBoZtY",
        "colab": {
          "base_uri": "https://localhost:8080/"
        },
        "outputId": "89f8c38f-1aa6-413d-d924-c1f6583165b2"
      },
      "execution_count": 3,
      "outputs": [
        {
          "output_type": "stream",
          "name": "stdout",
          "text": [
            "10821.985154850285\n",
            "0.6062326851998051\n"
          ]
        }
      ]
    },
    {
      "cell_type": "code",
      "source": [
        "#Implementing Gradient Descent - Full batch\n",
        "from sklearn.linear_model import LinearRegression\n",
        "from sklearn import datasets\n",
        "from sklearn.datasets import fetch_california_housing\n",
        "housing = fetch_california_housing()\n",
        "df = pd.DataFrame(data=housing['data'])\n",
        "x = housing.data\n",
        "x = np.c_[np.ones((len(X), 1)), x]\n",
        "y = housing.target\n",
        "model = LinearRegression()\n",
        "model.fit(X,Y)\n",
        "\n",
        "y_pred = model.predict(x)\n",
        "\n",
        "print(model.intercept_,model.coef_[0])\n",
        "\n",
        "#SSE from Scratch for Full batch gradient\n",
        "sum = 0\n",
        "for i in range(y_pred.shape[0]):\n",
        "  sum+= (y[i]-y_pred[i])**2\n",
        "print(sum)\n",
        "\n",
        "#R2_Score from Scratch\n",
        "ss_total = np.sum((y - np.mean(y)) ** 2)\n",
        "ss_residual = np.sum((y - y_pred) ** 2)\n",
        "r2 = 1 - (ss_residual / ss_total)\n",
        "print(r2)"
      ],
      "metadata": {
        "id": "0bP_RufKodpg",
        "colab": {
          "base_uri": "https://localhost:8080/"
        },
        "outputId": "2eb5cb74-9aee-42ee-a010-77b6d4ebd6fe"
      },
      "execution_count": 4,
      "outputs": [
        {
          "output_type": "stream",
          "name": "stdout",
          "text": [
            "-36.94192020718417 0.0\n",
            "10821.985154850325\n",
            "0.6062326851998052\n"
          ]
        }
      ]
    },
    {
      "cell_type": "code",
      "source": [
        "#Implementing using Stochastic Gradient Descent\n",
        "\n",
        "from sklearn.linear_model import LinearRegression\n",
        "from sklearn import datasets\n",
        "from sklearn.datasets import fetch_california_housing\n",
        "housing = fetch_california_housing()\n",
        "df = pd.DataFrame(data=housing['data'])\n",
        "x = housing.data\n",
        "x = np.c_[np.ones((len(X), 1)), x]\n",
        "y = housing.target\n",
        "model = LinearRegression()\n",
        "model.fit(X,Y)\n",
        "\n",
        "y_pred = model.predict(x)\n",
        "\n",
        "print(model.intercept_,model.coef_[0])\n",
        "\n",
        "#SSE from Scratch for Full batch gradient\n",
        "sum = 0\n",
        "for i in range(y_pred.shape[0]):\n",
        "  sum+= (y[i]-y_pred[i])**2\n",
        "print(sum)\n",
        "\n",
        "#R2_Score from Scratch\n",
        "ss_total = np.sum((y - np.mean(y)) ** 2)\n",
        "ss_residual = np.sum((y - y_pred) ** 2)\n",
        "r2 = 1 - (ss_residual / ss_total)\n",
        "print(r2)"
      ],
      "metadata": {
        "id": "av0xdVrkoeho",
        "colab": {
          "base_uri": "https://localhost:8080/"
        },
        "outputId": "6b151a69-6834-483b-dfb0-35754064ef55"
      },
      "execution_count": 5,
      "outputs": [
        {
          "output_type": "stream",
          "name": "stdout",
          "text": [
            "-36.94192020718417 0.0\n",
            "10821.985154850325\n",
            "0.6062326851998052\n"
          ]
        }
      ]
    },
    {
      "cell_type": "code",
      "source": [
        "#Implementing using Stochastic Gradient Descent\n",
        "\n",
        "from sklearn.linear_model import SGDRegressor\n",
        "model = SGDRegressor()\n",
        "model.fit(x,y)\n",
        "\n",
        "y_pred = model.predict(x)\n",
        "\n",
        "#SSE from Scratch for Stochastic batch gradient\n",
        "sum = 0\n",
        "for i in range(y_pred.shape[0]):\n",
        "  sum+= (y[i]-y_pred[i])**2\n",
        "print(sum)\n",
        "\n",
        "#R2_Score from Scratch for Stochastic Gradient Descent\n",
        "ss_total = np.sum((y - np.mean(y)) ** 2)\n",
        "ss_residual = np.sum((y - y_pred) ** 2)\n",
        "r2 = 1 - (ss_residual / ss_total)\n",
        "print(r2)"
      ],
      "metadata": {
        "id": "FHh-ExEwom0w",
        "colab": {
          "base_uri": "https://localhost:8080/"
        },
        "outputId": "72eec08b-3b6c-4ea3-88d5-d430622f79ea"
      },
      "execution_count": 6,
      "outputs": [
        {
          "output_type": "stream",
          "name": "stdout",
          "text": [
            "9.079119839563708e+33\n",
            "-3.303516488720991e+29\n"
          ]
        }
      ]
    },
    {
      "cell_type": "code",
      "source": [
        "import numpy as np\n",
        "from sklearn.datasets import fetch_california_housing\n",
        "from sklearn.linear_model import LinearRegression, SGDRegressor\n",
        "from sklearn.model_selection import train_test_split\n",
        "from sklearn.metrics import mean_squared_error, r2_score"
      ],
      "metadata": {
        "id": "TvTQBfrEotS6"
      },
      "execution_count": 7,
      "outputs": []
    },
    {
      "cell_type": "code",
      "source": [
        "housing = fetch_california_housing()\n",
        "X = housing.data\n",
        "Y = housing.target\n",
        "X_train, X_test, Y_train, Y_test = train_test_split(X, Y, test_size=0.2, random_state=42)\n",
        "\n",
        "lin_reg = LinearRegression()\n",
        "lin_reg.fit(X_train, Y_train)\n",
        "Y_pred_batch_gd = lin_reg.predict(X_test)\n",
        "\n",
        "sgd_reg = SGDRegressor(max_iter=1000, tol=1e-3, random_state=42)\n",
        "sgd_reg.fit(X_train, Y_train)\n",
        "Y_pred_sgd = sgd_reg.predict(X_test)\n",
        "\n",
        "mse_batch_gd = mean_squared_error(Y_test, Y_pred_batch_gd)\n",
        "mse_sgd = mean_squared_error(Y_test, Y_pred_sgd)\n",
        "r2_batch_gd = r2_score(Y_test, Y_pred_batch_gd)\n",
        "r2_sgd = r2_score(Y_test, Y_pred_sgd)\n",
        "\n",
        "print(\"Full-Batch Gradient Descent Mean Squared Error:\", mse_batch_gd)\n",
        "print(\"Stochastic Gradient Descent Mean Squared Error:\", mse_sgd)\n",
        "print(\"Full-Batch Gradient Descent R² Score:\", r2_batch_gd)\n",
        "print(\"Stochastic Gradient Descent R² Score:\", r2_sgd)"
      ],
      "metadata": {
        "id": "ZSlDfxFZoxjp",
        "colab": {
          "base_uri": "https://localhost:8080/"
        },
        "outputId": "588fc2dc-bd38-4baf-c185-2636707a0447"
      },
      "execution_count": 8,
      "outputs": [
        {
          "output_type": "stream",
          "name": "stdout",
          "text": [
            "Full-Batch Gradient Descent Mean Squared Error: 0.5558915986952422\n",
            "Stochastic Gradient Descent Mean Squared Error: 3.125598638710681e+28\n",
            "Full-Batch Gradient Descent R² Score: 0.5757877060324524\n",
            "Stochastic Gradient Descent R² Score: -2.385208504070616e+28\n"
          ]
        }
      ]
    }
  ]
}