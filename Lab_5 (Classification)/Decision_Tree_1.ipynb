{
  "nbformat": 4,
  "nbformat_minor": 0,
  "metadata": {
    "colab": {
      "provenance": []
    },
    "kernelspec": {
      "name": "python3",
      "display_name": "Python 3"
    },
    "language_info": {
      "name": "python"
    }
  },
  "cells": [
    {
      "cell_type": "markdown",
      "source": [
        "Import libraries"
      ],
      "metadata": {
        "id": "7kQnKmkwPKZ-"
      }
    },
    {
      "cell_type": "code",
      "execution_count": null,
      "metadata": {
        "id": "qsWExclyO0Sc"
      },
      "outputs": [],
      "source": [
        "import pandas as pd\n",
        "import numpy as np"
      ]
    },
    {
      "cell_type": "markdown",
      "source": [
        "Load the dataset"
      ],
      "metadata": {
        "id": "ggF5qNeFP6iR"
      }
    },
    {
      "cell_type": "code",
      "source": [
        "dataset = pd.read_csv('play_tennis.csv')\n",
        "dataset.head()\n",
        "dataset.shape"
      ],
      "metadata": {
        "colab": {
          "base_uri": "https://localhost:8080/"
        },
        "id": "BXNEc5nIP9X5",
        "outputId": "029c80b3-622d-4b46-c396-7733bc5d2c41"
      },
      "execution_count": null,
      "outputs": [
        {
          "output_type": "execute_result",
          "data": {
            "text/plain": [
              "(14, 6)"
            ]
          },
          "metadata": {},
          "execution_count": 9
        }
      ]
    },
    {
      "cell_type": "markdown",
      "source": [
        "calculating the entropy"
      ],
      "metadata": {
        "id": "uxC2HK7AQCUv"
      }
    },
    {
      "cell_type": "code",
      "source": [
        "def entropy(dataset):\n",
        "    target_col = dataset.iloc[:, -1]\n",
        "    target_count = target_col.value_counts()\n",
        "    entropy_value = 0\n",
        "    for val in target_count.keys():\n",
        "        prob = target_count[val] / sum(target_count)\n",
        "        entropy_value -= prob * np.log2(prob)\n",
        "    return entropy_value\n"
      ],
      "metadata": {
        "id": "Y-bgzq3LQF6E"
      },
      "execution_count": null,
      "outputs": []
    },
    {
      "cell_type": "markdown",
      "source": [
        "function for calculating information Gain"
      ],
      "metadata": {
        "id": "17hlyoIdQLp4"
      }
    },
    {
      "cell_type": "code",
      "source": [
        "#Creating a function for calculating information Gain\n",
        "def info_gain(dataset, feature):\n",
        "    initial_entropy = entropy(dataset)\n",
        "    feature_values = dataset[feature].unique()\n",
        "    feature_counts = dataset[feature].value_counts()\n",
        "    cond_entropy = []\n",
        "\n",
        "    for val in feature_values:\n",
        "        subset = dataset[dataset[feature] == val]\n",
        "        subset_entropy = 0\n",
        "        for res in dataset.iloc[:, -1].unique():\n",
        "            try:\n",
        "                prob_res = subset.iloc[:, -1].value_counts()[res] / len(subset)\n",
        "                subset_entropy -= prob_res * np.log2(prob_res)\n",
        "            except:\n",
        "                subset_entropy = 0\n",
        "        cond_entropy.append(subset_entropy)\n",
        "\n",
        "    for i in range(len(feature_values)):\n",
        "        initial_entropy -= feature_counts[feature_values[i]] * cond_entropy[i] / sum(feature_counts)\n",
        "\n",
        "    return initial_entropy\n",
        "\n",
        "class Node():\n",
        "    def _init_(self, feature_name=None, feature_values=None):\n",
        "        self.feature_name = feature_name\n",
        "        self.feature_values = feature_values\n",
        "\n",
        "    def _str_(self):\n",
        "        return self.feature_name\n"
      ],
      "metadata": {
        "id": "-mdfqGYPQatM"
      },
      "execution_count": null,
      "outputs": []
    },
    {
      "cell_type": "code",
      "source": [
        "def choose_best_feature(dataset, used_features):\n",
        "    node = Node()\n",
        "    highest_info_gain = 0\n",
        "    best_feature = None\n",
        "    available_features = [feat for feat in dataset.columns[:-1] if feat not in used_features]  # Ensure target column is excluded\n",
        "\n",
        "    if available_features:\n",
        "        for feat in available_features:\n",
        "            gain = info_gain(dataset, feat)\n",
        "            if gain > highest_info_gain:\n",
        "                highest_info_gain = gain\n",
        "                best_feature = feat\n",
        "\n",
        "        if best_feature:\n",
        "            used_features.append(best_feature)\n",
        "            node.feature_name = best_feature\n",
        "            node.feature_values = dataset[best_feature].unique()\n",
        "            return node\n",
        "        else:\n",
        "            return None\n",
        "\n",
        "    return None"
      ],
      "metadata": {
        "id": "hgkqPIiLQldr"
      },
      "execution_count": null,
      "outputs": []
    },
    {
      "cell_type": "code",
      "source": [
        "def build_tree(dataset, used_features):\n",
        "    root = choose_best_feature(dataset, used_features)\n",
        "    tree = {}\n",
        "\n",
        "    # If root is found, continue building the tree\n",
        "    if root is not None:\n",
        "        branches = []\n",
        "        for val in root.feature_values:\n",
        "            subset = dataset[dataset[root.feature_name] == val]\n",
        "            if entropy(subset) == 0:  # If pure subset, it's a decision (leaf node)\n",
        "                branches.append((val, subset.iloc[:, -1].unique()[0]))\n",
        "            else:\n",
        "                subtree = build_tree(subset, used_features)\n",
        "                branches.append((val, subtree))\n",
        "\n",
        "        tree[root.feature_name] = branches\n",
        "\n",
        "    return tree\n"
      ],
      "metadata": {
        "id": "0pZKHbhfQopX"
      },
      "execution_count": null,
      "outputs": []
    },
    {
      "cell_type": "code",
      "source": [
        "#Function to print the tree\n",
        "def display_tree(tree, depth=0):\n",
        "    if isinstance(tree, dict):\n",
        "        for feature, branches in tree.items():\n",
        "            print(f\"{'|   ' * depth}{feature}\")  # Print the feature name\n",
        "            if isinstance(branches, list):\n",
        "                for branch in branches:\n",
        "                    print(f\"{'|   ' * (depth + 1)}{branch[0]} ->\", end=\" \")\n",
        "                    if isinstance(branch[1], dict):\n",
        "                        print()\n",
        "                        display_tree(branch[1], depth + 2)  # Recursive call for further splits\n",
        "                    else:\n",
        "                        print(f\"Decision: {branch[1]}\")  # Print the decision\n",
        "    else:\n",
        "        print(tree)\n"
      ],
      "metadata": {
        "id": "ojpk2LyvQsJw"
      },
      "execution_count": null,
      "outputs": []
    },
    {
      "cell_type": "code",
      "source": [
        "# Build the ID3 decision tree\n",
        "used_features_list = []\n",
        "id3_tree = build_tree(dataset, used_features_list)\n",
        "\n",
        "# Print the ID3 decision tree with features and decisions\n",
        "print(\"Final ID3 Decision Tree:\")\n",
        "display_tree(id3_tree)"
      ],
      "metadata": {
        "colab": {
          "base_uri": "https://localhost:8080/"
        },
        "id": "h3uDXwGiQ1_U",
        "outputId": "9db50e67-203d-4582-8ae0-53b8d751b2f4"
      },
      "execution_count": null,
      "outputs": [
        {
          "output_type": "stream",
          "name": "stdout",
          "text": [
            "Final ID3 Decision Tree:\n",
            "day\n",
            "|   D1 -> Decision: No\n",
            "|   D2 -> Decision: No\n",
            "|   D3 -> Decision: Yes\n",
            "|   D4 -> Decision: Yes\n",
            "|   D5 -> Decision: Yes\n",
            "|   D6 -> Decision: No\n",
            "|   D7 -> Decision: Yes\n",
            "|   D8 -> Decision: No\n",
            "|   D9 -> Decision: Yes\n",
            "|   D10 -> Decision: Yes\n",
            "|   D11 -> Decision: Yes\n",
            "|   D12 -> Decision: Yes\n",
            "|   D13 -> Decision: Yes\n",
            "|   D14 -> Decision: No\n"
          ]
        }
      ]
    }
  ]
}