{
  "nbformat": 4,
  "nbformat_minor": 0,
  "metadata": {
    "colab": {
      "provenance": []
    },
    "kernelspec": {
      "name": "python3",
      "display_name": "Python 3"
    },
    "language_info": {
      "name": "python"
    }
  },
  "cells": [
    {
      "cell_type": "markdown",
      "source": [
        "Import libraries"
      ],
      "metadata": {
        "id": "6P_9k_fb73z_"
      }
    },
    {
      "cell_type": "code",
      "execution_count": null,
      "metadata": {
        "id": "acN9cJUkrDvH"
      },
      "outputs": [],
      "source": [
        "import pandas as pd\n",
        "import numpy as np\n",
        "from sklearn.model_selection import train_test_split\n",
        "from sklearn.feature_selection import VarianceThreshold, SequentialFeatureSelector, RFE\n",
        "from sklearn.linear_model import LogisticRegression\n",
        "from sklearn.ensemble import RandomForestClassifier\n",
        "from sklearn.tree import DecisionTreeClassifier\n",
        "from sklearn.impute import SimpleImputer\n",
        "from sklearn.metrics import accuracy_score"
      ]
    },
    {
      "cell_type": "code",
      "source": [
        "# Load the diabetes dataset\n",
        "diabetes_data = pd.read_csv('diabetes.csv')\n",
        "\n",
        "# 1. Missing Values Ratio: Remove columns with more than 30% missing values\n",
        "diabetes_data = diabetes_data.loc[:, diabetes_data.isnull().mean() < 0.3]"
      ],
      "metadata": {
        "id": "NheTt5978CNS"
      },
      "execution_count": null,
      "outputs": []
    },
    {
      "cell_type": "code",
      "source": [
        "# Impute remaining missing values with the median\n",
        "imputer = SimpleImputer(strategy='median')\n",
        "diabetes_data = pd.DataFrame(imputer.fit_transform(diabetes_data), columns=diabetes_data.columns)\n",
        "\n",
        "# Separate features and target\n",
        "X_diabetes = diabetes_data.drop('Outcome', axis=1)\n",
        "y_diabetes = diabetes_data['Outcome']\n",
        "\n",
        "# Split data into training and testing sets\n",
        "X_train_d, X_test_d, y_train_d, y_test_d = train_test_split(X_diabetes, y_diabetes, test_size=0.2, random_state=42)"
      ],
      "metadata": {
        "id": "2t0e3Z7-8V0b"
      },
      "execution_count": null,
      "outputs": []
    },
    {
      "cell_type": "code",
      "source": [
        "# 2. High Correlation Filter: Remove highly correlated features (correlation > 0.8)\n",
        "def remove_highly_correlated_features(data, threshold=0.8):\n",
        "    corr_matrix = data.corr().abs()\n",
        "    upper_tri = corr_matrix.where(np.triu(np.ones(corr_matrix.shape), k=1).astype(bool))\n",
        "    to_drop = [column for column in upper_tri.columns if any(upper_tri[column] > threshold)]\n",
        "    return data.drop(to_drop, axis=1)"
      ],
      "metadata": {
        "id": "8rEEH6xX8bef"
      },
      "execution_count": null,
      "outputs": []
    },
    {
      "cell_type": "code",
      "source": [
        "X_train_d = remove_highly_correlated_features(X_train_d, threshold=0.8)\n",
        "X_test_d = X_test_d[X_train_d.columns]\n",
        "\n",
        "# 3. Low Variance Filter\n",
        "variance_filter_d = VarianceThreshold(threshold=0.1)\n",
        "X_train_d_var = variance_filter_d.fit_transform(X_train_d)\n",
        "X_test_d_var = variance_filter_d.transform(X_test_d)"
      ],
      "metadata": {
        "id": "-Hp-5HsB8ygz"
      },
      "execution_count": null,
      "outputs": []
    },
    {
      "cell_type": "code",
      "source": [
        "# Train RandomForest model after Low Variance Filter\n",
        "model_d_var = RandomForestClassifier(n_estimators=100, random_state=42)\n",
        "model_d_var.fit(X_train_d_var, y_train_d)\n",
        "y_pred_d_var = model_d_var.predict(X_test_d_var)\n",
        "print(f'Accuracy for Diabetes after Low Variance Filter: {accuracy_score(y_test_d, y_pred_d_var)}')\n",
        "\n",
        "# 4. Forward Feature Selection\n",
        "model_d_fwd = LogisticRegression()\n",
        "sfs_d = SequentialFeatureSelector(model_d_fwd, n_features_to_select=5, direction='forward')\n",
        "sfs_d.fit(X_train_d, y_train_d)\n",
        "\n",
        "# Transform datasets\n",
        "X_train_d_fwd = sfs_d.transform(X_train_d)\n",
        "X_test_d_fwd = sfs_d.transform(X_test_d)"
      ],
      "metadata": {
        "colab": {
          "base_uri": "https://localhost:8080/"
        },
        "id": "cDpOPM8Q9D7T",
        "outputId": "152c5c00-9650-4b2f-8700-7c0ca2044726"
      },
      "execution_count": null,
      "outputs": [
        {
          "output_type": "stream",
          "name": "stdout",
          "text": [
            "Accuracy for Diabetes after Low Variance Filter: 0.7207792207792207\n"
          ]
        }
      ]
    },
    {
      "cell_type": "code",
      "source": [
        "# Train and evaluate model after Forward Feature Selection\n",
        "model_d_fwd.fit(X_train_d_fwd, y_train_d)\n",
        "y_pred_d_fwd = model_d_fwd.predict(X_test_d_fwd)\n",
        "print(f'Accuracy for Diabetes after Forward Feature Selection: {accuracy_score(y_test_d, y_pred_d_fwd)}')\n",
        "\n",
        "# 5. Backward Feature Elimination\n",
        "model_d_bwd = DecisionTreeClassifier()\n",
        "rfe_d = RFE(model_d_bwd, n_features_to_select=5)\n",
        "rfe_d.fit(X_train_d, y_train_d)\n",
        "\n",
        "# Transform datasets\n",
        "X_train_d_bwd = rfe_d.transform(X_train_d)\n",
        "X_test_d_bwd = rfe_d.transform(X_test_d)\n",
        "\n",
        "# Train and evaluate model after Backward Feature Elimination\n",
        "model_d_bwd.fit(X_train_d_bwd, y_train_d)\n",
        "y_pred_d_bwd = model_d_bwd.predict(X_test_d_bwd)\n",
        "print(f'Accuracy for Diabetes after Backward Feature Elimination: {accuracy_score(y_test_d, y_pred_d_bwd)}')"
      ],
      "metadata": {
        "colab": {
          "base_uri": "https://localhost:8080/"
        },
        "id": "-AEBBqCC9JRK",
        "outputId": "03fd5aee-5dba-4dd0-c9b6-a3d393f05032"
      },
      "execution_count": null,
      "outputs": [
        {
          "output_type": "stream",
          "name": "stdout",
          "text": [
            "Accuracy for Diabetes after Forward Feature Selection: 0.7727272727272727\n",
            "Accuracy for Diabetes after Backward Feature Elimination: 0.6883116883116883\n"
          ]
        }
      ]
    },
    {
      "cell_type": "code",
      "source": [
        "# 6. Random Forest Feature Importance: Keep only top 5 most important features\n",
        "model_d_rf = RandomForestClassifier(n_estimators=100, random_state=42)\n",
        "model_d_rf.fit(X_train_d, y_train_d)\n",
        "importance_d = pd.Series(model_d_rf.feature_importances_, index=X_train_d.columns)\n",
        "top_features_d = importance_d.nlargest(5).index\n",
        "\n",
        "# Train and evaluate model using only top 5 features\n",
        "X_train_d_rf = X_train_d[top_features_d]\n",
        "X_test_d_rf = X_test_d[top_features_d]\n",
        "model_d_rf.fit(X_train_d_rf, y_train_d)\n",
        "y_pred_d_rf = model_d_rf.predict(X_test_d_rf)\n",
        "print(f'Accuracy for Diabetes with Top 5 Random Forest Features: {accuracy_score(y_test_d, y_pred_d_rf)}')"
      ],
      "metadata": {
        "id": "fluMHRX-9NOG",
        "outputId": "d42413c9-a902-4920-98eb-a056dc168d44",
        "colab": {
          "base_uri": "https://localhost:8080/"
        }
      },
      "execution_count": null,
      "outputs": [
        {
          "output_type": "stream",
          "name": "stdout",
          "text": [
            "Accuracy for Diabetes with Top 5 Random Forest Features: 0.7792207792207793\n"
          ]
        }
      ]
    }
  ]
}