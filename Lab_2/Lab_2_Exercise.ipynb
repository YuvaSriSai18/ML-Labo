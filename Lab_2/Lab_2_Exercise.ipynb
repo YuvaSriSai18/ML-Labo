{
  "cells": [
    {
      "cell_type": "markdown",
      "metadata": {
        "id": "masY9s6QEGCE"
      },
      "source": [
        "Question 1 in Lab 2 Exercise\n"
      ]
    },
    {
      "cell_type": "code",
      "execution_count": 3,
      "metadata": {
        "id": "AfHbOnMmA7g0"
      },
      "outputs": [],
      "source": [
        "import numpy as np"
      ]
    },
    {
      "cell_type": "code",
      "execution_count": 4,
      "metadata": {
        "id": "1U9OB6ZJBzpK"
      },
      "outputs": [
        {
          "name": "stdout",
          "output_type": "stream",
          "text": [
            "(10,)\n"
          ]
        }
      ],
      "source": [
        "array = np.array([1,2,3,4,5,6,7,8,9,10])\n",
        "print(array.shape)"
      ]
    },
    {
      "cell_type": "code",
      "execution_count": 5,
      "metadata": {
        "id": "Q0dflGRdCX3U"
      },
      "outputs": [
        {
          "name": "stdout",
          "output_type": "stream",
          "text": [
            "Array with random values\n",
            "Sample Variance 0.06535131244390142\n",
            "Variance with random values : 0.06208374682170635\n",
            "Mean with random values : 0.5778614792975636\n"
          ]
        }
      ],
      "source": [
        "arr1 = np.random.random(20)\n",
        "print('Array with random values')\n",
        "# Variance :  represents the dispersion or spread of a set of data points around their mean (average).\n",
        "sample_variance = np.var(arr1, ddof=1)\n",
        "print(f'Sample Variance {sample_variance}')\n",
        "print(f'Variance with random values : {np.var(arr1)}')\n",
        "\n",
        "print(f'Mean with random values : {np.mean(arr1)}')"
      ]
    },
    {
      "cell_type": "code",
      "execution_count": null,
      "metadata": {
        "id": "KrnSF5czDFB_"
      },
      "outputs": [],
      "source": [
        "# for variance\n",
        "print('Array with Specified values')\n",
        "print(f'Sample Variance {np.var(array, ddof=1)}')\n",
        "print(f'Variance : {np.var(array)}')\n",
        "print(f'Mean : {np.mean(array)}')"
      ]
    },
    {
      "cell_type": "markdown",
      "metadata": {
        "id": "1K2lbYx9EQnE"
      },
      "source": [
        "Question 2 in Lab 2 Exercise"
      ]
    },
    {
      "cell_type": "code",
      "execution_count": 6,
      "metadata": {
        "id": "lMpQaGtFETbZ"
      },
      "outputs": [
        {
          "name": "stdout",
          "output_type": "stream",
          "text": [
            "[0.76027336 0.99524598 0.45804332 0.4736893  0.47769188 0.96424598\n",
            " 0.3236538  0.26742954]\n",
            "[0.53709774 0.50717653 0.19104589 0.48823756 0.89510272 0.04595416\n",
            " 0.20686794 0.20776482]\n",
            "\n",
            "Coavriance of a matrix : (x,y)\n",
            "\n",
            "[[0.07883189 0.00134801]\n",
            " [0.00134801 0.07494816]]\n",
            "\n",
            "Shape of covariance matrix is (2, 8)\n"
          ]
        }
      ],
      "source": [
        "x = np.random.random(8)\n",
        "y = np.random.random(8)\n",
        "\n",
        "print(x)\n",
        "print(y)\n",
        "\n",
        "cov_mat = np.stack((x, y), axis=0)\n",
        "# Here we take two, one dimensional array so we have to combine both the arrays for that we using the stack() function\n",
        "print('\\nCoavriance of a matrix : (x,y)\\n')\n",
        "print(np.cov(cov_mat))\n",
        "\n",
        "print(f'\\nShape of covariance matrix is {np.shape(cov_mat)}')\n"
      ]
    },
    {
      "cell_type": "code",
      "execution_count": 7,
      "metadata": {
        "id": "P4Svj0MBHgZQ"
      },
      "outputs": [
        {
          "name": "stdout",
          "output_type": "stream",
          "text": [
            "[[ 0.06232104 -0.0328963   0.04085896]\n",
            " [-0.0328963   0.01917488 -0.02574864]\n",
            " [ 0.04085896 -0.02574864  0.0364439 ]]\n",
            "\n",
            "Shape of covariance matrix is (3, 3)\n"
          ]
        }
      ],
      "source": [
        "randArr = np.random.random((3,3))\n",
        "# Here we initiallly creating a 3X3 matrix so we can directly calculate the covariance of the matrix by passing it to the cov() function\n",
        "#Co-variance:   indicates the extent to which two variables change together.\n",
        "print(np.cov(randArr))\n",
        "print(f'\\nShape of covariance matrix is {np.shape(randArr)}')"
      ]
    },
    {
      "cell_type": "markdown",
      "metadata": {
        "id": "gQ3OLNzkM7B9"
      },
      "source": [
        "Question 3 in Lab 2 Exercise"
      ]
    },
    {
      "cell_type": "code",
      "execution_count": null,
      "metadata": {
        "id": "98mXckBFJSnV"
      },
      "outputs": [],
      "source": [
        "# For Corelation\n",
        "# np.correlate() is designed to work with 1D arrays, and when you pass it a 2D array, it doesn't know how to compute the correlation properly.\n",
        "arr1 = np.random.random(10)\n",
        "arr2 = np.random.random(10)\n",
        "#Corelation :  describes the extent to which two variables move in relation to each other\n",
        "print(arr1)\n",
        "print(arr2)\n",
        "print(np.correlate(arr1, arr2))"
      ]
    },
    {
      "cell_type": "markdown",
      "metadata": {
        "id": "ioRtcJYjM_n_"
      },
      "source": [
        "Question 4 in Lab 2 Exercise"
      ]
    },
    {
      "cell_type": "code",
      "execution_count": null,
      "metadata": {
        "id": "satj3PYJMP5Q"
      },
      "outputs": [],
      "source": [
        "# Generate a random MxN matrix\n",
        "feature_matrix = np.random.random((5, 10))\n",
        "print(\"Feature Matrix (MxN):\")\n",
        "print(feature_matrix)\n",
        "\n",
        "# Compute the Covariance Matrix\n",
        "covariance_matrix = np.cov(feature_matrix)\n",
        "print(\"\\nCovariance Matrix (MxM):\")\n",
        "print(covariance_matrix)\n",
        "\n",
        "# Compute the Correlation Matrix\n",
        "correlation_matrix = np.corrcoef(feature_matrix)\n",
        "print(\"\\nCorrelation Matrix (MxM):\")\n",
        "print(correlation_matrix)"
      ]
    }
  ],
  "metadata": {
    "colab": {
      "provenance": []
    },
    "kernelspec": {
      "display_name": "Python 3",
      "name": "python3"
    },
    "language_info": {
      "codemirror_mode": {
        "name": "ipython",
        "version": 3
      },
      "file_extension": ".py",
      "mimetype": "text/x-python",
      "name": "python",
      "nbconvert_exporter": "python",
      "pygments_lexer": "ipython3",
      "version": "3.12.5"
    }
  },
  "nbformat": 4,
  "nbformat_minor": 0
}
