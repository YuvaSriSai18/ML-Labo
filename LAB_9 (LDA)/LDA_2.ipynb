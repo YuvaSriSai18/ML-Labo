{
  "nbformat": 4,
  "nbformat_minor": 0,
  "metadata": {
    "colab": {
      "provenance": []
    },
    "kernelspec": {
      "name": "python3",
      "display_name": "Python 3"
    },
    "language_info": {
      "name": "python"
    }
  },
  "cells": [
    {
      "cell_type": "code",
      "execution_count": 12,
      "metadata": {
        "id": "GZaooP3fGRx5"
      },
      "outputs": [],
      "source": [
        "import numpy as np\n",
        "import pandas as pd\n",
        "from sklearn import datasets\n",
        "from sklearn.model_selection import train_test_split\n",
        "from sklearn.preprocessing import StandardScaler\n",
        "from sklearn.discriminant_analysis import LinearDiscriminantAnalysis\n",
        "from sklearn.linear_model import LogisticRegression\n",
        "from sklearn.metrics import accuracy_score, precision_score, recall_score, confusion_matrix, classification_report"
      ]
    },
    {
      "cell_type": "code",
      "source": [
        "# Load the Wine dataset\n",
        "wine = datasets.load_wine()\n",
        "X = wine.data  # Features\n",
        "y = wine.target  # Labels\n",
        "target_names = wine.target_names  # Class names"
      ],
      "metadata": {
        "id": "qhp8fhF_GchX"
      },
      "execution_count": 13,
      "outputs": []
    },
    {
      "cell_type": "code",
      "source": [
        "# Display the dataset information\n",
        "print(\"Step 1: Wine Dataset Loaded\")\n",
        "print(\"Number of Features:\", X.shape[1])\n",
        "print(\"Number of Classes:\", len(target_names))\n",
        "print(\"Feature Data (first 5 rows):\\n\", pd.DataFrame(X, columns=wine.feature_names).head())\n",
        "print(\"Target Labels (first 5):\\n\", y[:5])\n",
        "print(\"Class Names:\", target_names)"
      ],
      "metadata": {
        "colab": {
          "base_uri": "https://localhost:8080/"
        },
        "id": "t-bZEe0gGg9U",
        "outputId": "ff2c1b61-bc4f-485e-f792-3cf89a4e999b"
      },
      "execution_count": 14,
      "outputs": [
        {
          "output_type": "stream",
          "name": "stdout",
          "text": [
            "Step 1: Wine Dataset Loaded\n",
            "Number of Features: 13\n",
            "Number of Classes: 3\n",
            "Feature Data (first 5 rows):\n",
            "    alcohol  malic_acid   ash  alcalinity_of_ash  magnesium  total_phenols  \\\n",
            "0    14.23        1.71  2.43               15.6      127.0           2.80   \n",
            "1    13.20        1.78  2.14               11.2      100.0           2.65   \n",
            "2    13.16        2.36  2.67               18.6      101.0           2.80   \n",
            "3    14.37        1.95  2.50               16.8      113.0           3.85   \n",
            "4    13.24        2.59  2.87               21.0      118.0           2.80   \n",
            "\n",
            "   flavanoids  nonflavanoid_phenols  proanthocyanins  color_intensity   hue  \\\n",
            "0        3.06                  0.28             2.29             5.64  1.04   \n",
            "1        2.76                  0.26             1.28             4.38  1.05   \n",
            "2        3.24                  0.30             2.81             5.68  1.03   \n",
            "3        3.49                  0.24             2.18             7.80  0.86   \n",
            "4        2.69                  0.39             1.82             4.32  1.04   \n",
            "\n",
            "   od280/od315_of_diluted_wines  proline  \n",
            "0                          3.92   1065.0  \n",
            "1                          3.40   1050.0  \n",
            "2                          3.17   1185.0  \n",
            "3                          3.45   1480.0  \n",
            "4                          2.93    735.0  \n",
            "Target Labels (first 5):\n",
            " [0 0 0 0 0]\n",
            "Class Names: ['class_0' 'class_1' 'class_2']\n"
          ]
        }
      ]
    },
    {
      "cell_type": "code",
      "source": [
        "# Split the Data\n",
        "X_train, X_test, y_train, y_test = train_test_split(X, y, test_size=0.3, random_state=42)\n",
        "print(\"Training Set Size:\", X_train.shape)\n",
        "print(\"Testing Set Size:\", X_test.shape)"
      ],
      "metadata": {
        "colab": {
          "base_uri": "https://localhost:8080/"
        },
        "id": "WFzcvPxnGjVz",
        "outputId": "0c646666-fa08-4f70-88f4-ea8e3ee7842c"
      },
      "execution_count": 15,
      "outputs": [
        {
          "output_type": "stream",
          "name": "stdout",
          "text": [
            "Training Set Size: (124, 13)\n",
            "Testing Set Size: (54, 13)\n"
          ]
        }
      ]
    },
    {
      "cell_type": "code",
      "source": [
        "\n",
        "# Train LDA Model\n",
        "lda = LinearDiscriminantAnalysis()\n",
        "lda.fit(X_train, y_train)\n",
        "print(\"\\nStep 3: LDA Model Trained on Training Set\")"
      ],
      "metadata": {
        "colab": {
          "base_uri": "https://localhost:8080/"
        },
        "id": "__r6-05DGn5Q",
        "outputId": "bb9e4927-8710-4874-9f9d-88ca40f9ecb8"
      },
      "execution_count": 16,
      "outputs": [
        {
          "output_type": "stream",
          "name": "stdout",
          "text": [
            "\n",
            "Step 3: LDA Model Trained on Training Set\n"
          ]
        }
      ]
    },
    {
      "cell_type": "code",
      "source": [
        "# Evaluate the LDA Model\n",
        "y_pred_lda = lda.predict(X_test)\n",
        "accuracy_lda = accuracy_score(y_test, y_pred_lda)\n",
        "precision_lda = precision_score(y_test, y_pred_lda, average='weighted')\n",
        "recall_lda = recall_score(y_test, y_pred_lda, average='weighted')\n",
        "confusion_lda = confusion_matrix(y_test, y_pred_lda)\n",
        "\n",
        "print(\"\\nStep 4: LDA Model Evaluation\")\n",
        "print(\"LDA Accuracy:\", accuracy_lda)\n",
        "print(\"LDA Precision:\", precision_lda)\n",
        "print(\"LDA Recall:\", recall_lda)\n",
        "print(\"LDA Confusion Matrix:\\n\", confusion_lda)\n",
        "print(\"LDA Classification Report:\\n\", classification_report(y_test, y_pred_lda))"
      ],
      "metadata": {
        "colab": {
          "base_uri": "https://localhost:8080/"
        },
        "id": "E5EuOoS1Gr7n",
        "outputId": "9115b04d-89de-462b-9514-d22dd01c82a2"
      },
      "execution_count": 17,
      "outputs": [
        {
          "output_type": "stream",
          "name": "stdout",
          "text": [
            "\n",
            "Step 4: LDA Model Evaluation\n",
            "LDA Accuracy: 1.0\n",
            "LDA Precision: 1.0\n",
            "LDA Recall: 1.0\n",
            "LDA Confusion Matrix:\n",
            " [[19  0  0]\n",
            " [ 0 21  0]\n",
            " [ 0  0 14]]\n",
            "LDA Classification Report:\n",
            "               precision    recall  f1-score   support\n",
            "\n",
            "           0       1.00      1.00      1.00        19\n",
            "           1       1.00      1.00      1.00        21\n",
            "           2       1.00      1.00      1.00        14\n",
            "\n",
            "    accuracy                           1.00        54\n",
            "   macro avg       1.00      1.00      1.00        54\n",
            "weighted avg       1.00      1.00      1.00        54\n",
            "\n"
          ]
        }
      ]
    },
    {
      "cell_type": "code",
      "source": [
        "# Train the Logistic Regression model\n",
        "log_reg = LogisticRegression(max_iter=10000)  # Increase max_iter if convergence warning occurs\n",
        "log_reg.fit(X_train, y_train)\n",
        "print(\"\\nStep 5: Logistic Regression Model Trained on Training Set\")"
      ],
      "metadata": {
        "colab": {
          "base_uri": "https://localhost:8080/"
        },
        "id": "ZwYlwQnTHgAc",
        "outputId": "925e4508-2f3a-4bac-9a39-ad3aeb397172"
      },
      "execution_count": 18,
      "outputs": [
        {
          "output_type": "stream",
          "name": "stdout",
          "text": [
            "\n",
            "Step 5: Logistic Regression Model Trained on Training Set\n"
          ]
        }
      ]
    },
    {
      "cell_type": "code",
      "source": [
        "# Evaluate the Logistic Regression model\n",
        "y_pred_log_reg = log_reg.predict(X_test)\n",
        "accuracy_log_reg = accuracy_score(y_test, y_pred_log_reg)\n",
        "precision_log_reg = precision_score(y_test, y_pred_log_reg, average='weighted')\n",
        "recall_log_reg = recall_score(y_test, y_pred_log_reg, average='weighted')\n",
        "confusion_log_reg = confusion_matrix(y_test, y_pred_log_reg)\n",
        "\n",
        "print(\"\\nLogistic Regression Model Evaluation\")\n",
        "print(\"Logistic Regression Accuracy:\", accuracy_log_reg)\n",
        "print(\"Logistic Regression Precision:\", precision_log_reg)\n",
        "print(\"Logistic Regression Recall:\", recall_log_reg)\n",
        "print(\"Logistic Regression Confusion Matrix:\\n\", confusion_log_reg)\n",
        "print(\"Logistic Regression Classification Report:\\n\", classification_report(y_test, y_pred_log_reg))"
      ],
      "metadata": {
        "colab": {
          "base_uri": "https://localhost:8080/"
        },
        "id": "GhfAB8tBHjWv",
        "outputId": "128b8ea0-8966-4532-f6b4-35ad495c9f21"
      },
      "execution_count": 19,
      "outputs": [
        {
          "output_type": "stream",
          "name": "stdout",
          "text": [
            "\n",
            "Logistic Regression Model Evaluation\n",
            "Logistic Regression Accuracy: 1.0\n",
            "Logistic Regression Precision: 1.0\n",
            "Logistic Regression Recall: 1.0\n",
            "Logistic Regression Confusion Matrix:\n",
            " [[19  0  0]\n",
            " [ 0 21  0]\n",
            " [ 0  0 14]]\n",
            "Logistic Regression Classification Report:\n",
            "               precision    recall  f1-score   support\n",
            "\n",
            "           0       1.00      1.00      1.00        19\n",
            "           1       1.00      1.00      1.00        21\n",
            "           2       1.00      1.00      1.00        14\n",
            "\n",
            "    accuracy                           1.00        54\n",
            "   macro avg       1.00      1.00      1.00        54\n",
            "weighted avg       1.00      1.00      1.00        54\n",
            "\n"
          ]
        }
      ]
    },
    {
      "cell_type": "code",
      "source": [
        "# Summary of Comparison with LDA\n",
        "print(\"\\nSummary of Comparison with LDA:\")\n",
        "print(f\"LDA Accuracy: {accuracy_lda:.2f}, Logistic Regression Accuracy: {accuracy_log_reg:.2f}\")\n",
        "print(f\"LDA Precision: {precision_lda:.2f}, Logistic Regression Precision: {precision_log_reg:.2f}\")\n",
        "print(f\"LDA Recall: {recall_lda:.2f}, Logistic Regression Recall: {recall_log_reg:.2f}\")\n",
        "\n",
        "# Compare the confusion matrices for both models\n",
        "print(\"\\nLDA Confusion Matrix:\\n\", confusion_lda)\n",
        "print(\"\\nLogistic Regression Confusion Matrix:\\n\", confusion_log_reg)"
      ],
      "metadata": {
        "id": "qDF5F_h5HnyV",
        "outputId": "6bf66f7f-01cc-40d5-f89f-6d838f5c6942",
        "colab": {
          "base_uri": "https://localhost:8080/"
        }
      },
      "execution_count": 20,
      "outputs": [
        {
          "output_type": "stream",
          "name": "stdout",
          "text": [
            "\n",
            "Summary of Comparison with LDA:\n",
            "LDA Accuracy: 1.00, Logistic Regression Accuracy: 1.00\n",
            "LDA Precision: 1.00, Logistic Regression Precision: 1.00\n",
            "LDA Recall: 1.00, Logistic Regression Recall: 1.00\n",
            "\n",
            "LDA Confusion Matrix:\n",
            " [[19  0  0]\n",
            " [ 0 21  0]\n",
            " [ 0  0 14]]\n",
            "\n",
            "Logistic Regression Confusion Matrix:\n",
            " [[19  0  0]\n",
            " [ 0 21  0]\n",
            " [ 0  0 14]]\n"
          ]
        }
      ]
    }
  ]
}